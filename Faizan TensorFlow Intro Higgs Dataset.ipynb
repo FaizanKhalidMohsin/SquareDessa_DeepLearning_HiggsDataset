{
 "cells": [
  {
   "cell_type": "markdown",
   "metadata": {
    "colab_type": "text",
    "id": "fTFj8ft5dlbS"
   },
   "source": [
    "This notebook is adapted from [tf tutorials](https://www.tensorflow.org/tutorials/keras/overfit_and_underfit)"
   ]
  },
  {
   "cell_type": "markdown",
   "metadata": {
    "colab_type": "text",
    "id": "WL8UoOTmGGsL"
   },
   "source": [
    "## Setup"
   ]
  },
  {
   "cell_type": "markdown",
   "metadata": {
    "colab_type": "text",
    "id": "9FklhSI0Gg9R"
   },
   "source": [
    "Before getting started, import the necessary packages:"
   ]
  },
  {
   "cell_type": "code",
   "execution_count": 5,
   "metadata": {
    "colab": {},
    "colab_type": "code",
    "id": "5pZ8A2liqvgk"
   },
   "outputs": [
    {
     "name": "stdout",
     "output_type": "stream",
     "text": [
      "2.4.1\n"
     ]
    }
   ],
   "source": [
    "import tensorflow as tf\n",
    "\n",
    "from tensorflow.keras import layers\n",
    "from tensorflow.keras import regularizers\n",
    "from tensorflow.keras.callbacks import TensorBoard\n",
    "\n",
    "print(tf.__version__)"
   ]
  },
  {
   "cell_type": "code",
   "execution_count": 6,
   "metadata": {
    "colab": {},
    "colab_type": "code",
    "id": "QnAtAjqRYVXe"
   },
   "outputs": [],
   "source": [
    "#!pip install git+https://github.com/tensorflow/docs\n",
    "\n",
    "import tensorflow_docs as tfdocs\n",
    "import tensorflow_docs.modeling\n",
    "import tensorflow_docs.plots"
   ]
  },
  {
   "cell_type": "code",
   "execution_count": 7,
   "metadata": {
    "colab": {},
    "colab_type": "code",
    "id": "-pnOU-ctX27Q"
   },
   "outputs": [],
   "source": [
    "from  IPython import display\n",
    "from matplotlib import pyplot as plt\n",
    "\n",
    "import numpy as np\n",
    "\n",
    "import pathlib\n",
    "import shutil\n",
    "import tempfile\n",
    "\n",
    "import re\n",
    "import time\n"
   ]
  },
  {
   "cell_type": "code",
   "execution_count": 8,
   "metadata": {
    "colab": {},
    "colab_type": "code",
    "id": "jj6I4dvTtbUe"
   },
   "outputs": [],
   "source": [
    "logdir = pathlib.Path(tempfile.mkdtemp())/\"tensorboard_logs\"\n",
    "#shutil.rmtree(logdir, ignore_errors=True)"
   ]
  },
  {
   "cell_type": "markdown",
   "metadata": {
    "colab_type": "text",
    "id": "AWFn8Om6A-ep"
   },
   "source": [
    "---------------\n",
    "# > What is tf.keras?\n",
    "\n",
    "`tf.keras` is TensorFlow's high-level API for building and training deep learning models. [website](https://keras.io/)\n",
    "\n",
    "----------------------\n"
   ]
  },
  {
   "cell_type": "markdown",
   "metadata": {
    "colab_type": "text",
    "id": "1cweoTiruj8O"
   },
   "source": [
    "#### The Higgs Dataset\n",
    "\n",
    "The goal of this tutorial is not to do particle physics, so don't dwell on the details of the dataset. It contains 11&#x202F;000&#x202F;000 examples, each with 28 features, and a binary class label."
   ]
  },
  {
   "cell_type": "code",
   "execution_count": 9,
   "metadata": {
    "colab": {},
    "colab_type": "code",
    "id": "YPjAvwb-6dFd"
   },
   "outputs": [],
   "source": [
    "gz = tf.keras.utils.get_file('HIGGS.csv.gz', 'http://mlphysics.ics.uci.edu/data/higgs/HIGGS.csv.gz')"
   ]
  },
  {
   "cell_type": "code",
   "execution_count": 10,
   "metadata": {
    "colab": {},
    "colab_type": "code",
    "id": "AkiyUdaWIrww"
   },
   "outputs": [],
   "source": [
    "FEATURES = 28"
   ]
  },
  {
   "cell_type": "markdown",
   "metadata": {
    "colab_type": "text",
    "id": "SFggl9gYKKRJ"
   },
   "source": [
    "The `tf.data.experimental.CsvDataset` class can be used to read csv records directly from a gzip file with no intermediate decompression step."
   ]
  },
  {
   "cell_type": "code",
   "execution_count": 11,
   "metadata": {
    "colab": {},
    "colab_type": "code",
    "id": "QHz4sLVQEVIU"
   },
   "outputs": [],
   "source": [
    "ds = tf.data.experimental.CsvDataset(gz,[float(),]*(FEATURES+1), compression_type=\"GZIP\")"
   ]
  },
  {
   "cell_type": "markdown",
   "metadata": {
    "colab_type": "text",
    "id": "YpCmHCa8GW33"
   },
   "source": [
    "----------\n",
    "# > What is tf.data?\n",
    "\n",
    "The tf.data API makes it possible to handle large amounts of data, read from different data formats, and perform complex transformations.\n",
    "\n",
    "**Basic mechanics**\n",
    "\n",
    "To construct a Dataset from data in memory, you can use `tf.data.Dataset.from_tensors()` or `tf.data.Dataset.from_tensor_slices()`.\n",
    "\n",
    "# >What is a tensor in TF?\n",
    "If you're familiar with NumPy, tensors are (kind of) like `np.arrays`."
   ]
  },
  {
   "cell_type": "code",
   "execution_count": 12,
   "metadata": {
    "colab": {},
    "colab_type": "code",
    "id": "X0etbjqIHAzg"
   },
   "outputs": [],
   "source": [
    "dataset = tf.data.Dataset.from_tensor_slices([8, 3, 0, 8, 2, 1])"
   ]
  },
  {
   "cell_type": "code",
   "execution_count": 13,
   "metadata": {
    "colab": {},
    "colab_type": "code",
    "id": "Dima0yCrHAnc"
   },
   "outputs": [
    {
     "name": "stdout",
     "output_type": "stream",
     "text": [
      "8\n",
      "3\n",
      "0\n",
      "8\n",
      "2\n",
      "1\n"
     ]
    }
   ],
   "source": [
    "#The Dataset object is a Python iterable. This makes it possible to consume its elements using a for loop:\n",
    "for ele in dataset:\n",
    "  print(ele.numpy())"
   ]
  },
  {
   "cell_type": "code",
   "execution_count": 14,
   "metadata": {
    "colab": {},
    "colab_type": "code",
    "id": "hUl48zblIf8y"
   },
   "outputs": [],
   "source": [
    "# Once you have a Dataset object, you can transform it into a new Dataset by chaining method calls on the tf.data.Dataset object. \n",
    "# For example, you can apply per-element transformations such as Dataset.map().\n",
    "def fun(x):\n",
    "    return x * 2\n",
    "\n",
    "dataset = dataset.map(fun)#.shuffle(buffer_size=6).batch(4).repeat(2)"
   ]
  },
  {
   "cell_type": "code",
   "execution_count": 15,
   "metadata": {
    "colab": {},
    "colab_type": "code",
    "id": "ocVwPJ4aJE2E"
   },
   "outputs": [
    {
     "name": "stdout",
     "output_type": "stream",
     "text": [
      "0 16\n",
      "1 6\n",
      "2 0\n",
      "3 16\n",
      "4 4\n",
      "5 2\n"
     ]
    }
   ],
   "source": [
    "for i, elem in enumerate(dataset):\n",
    "  print(i,elem.numpy())"
   ]
  },
  {
   "cell_type": "markdown",
   "metadata": {
    "colab_type": "text",
    "id": "hg2Lo3GONKZW"
   },
   "source": [
    "---------"
   ]
  },
  {
   "cell_type": "markdown",
   "metadata": {
    "colab_type": "text",
    "id": "-zaeTyI-D_LG"
   },
   "source": [
    "Let's quickly check what is in the ds. The schema of the Higgs dataset is: `label, x1,x2,...x28` and each entry here is a tf.tensor."
   ]
  },
  {
   "cell_type": "code",
   "execution_count": 16,
   "metadata": {
    "colab": {},
    "colab_type": "code",
    "id": "PTy5dd98Dfov"
   },
   "outputs": [
    {
     "name": "stdout",
     "output_type": "stream",
     "text": [
      "(<tf.Tensor: shape=(), dtype=float32, numpy=1.0>, <tf.Tensor: shape=(), dtype=float32, numpy=0.8692932>, <tf.Tensor: shape=(), dtype=float32, numpy=-0.6350818>, <tf.Tensor: shape=(), dtype=float32, numpy=0.22569026>, <tf.Tensor: shape=(), dtype=float32, numpy=0.32747006>, <tf.Tensor: shape=(), dtype=float32, numpy=-0.6899932>, <tf.Tensor: shape=(), dtype=float32, numpy=0.75420225>, <tf.Tensor: shape=(), dtype=float32, numpy=-0.24857314>, <tf.Tensor: shape=(), dtype=float32, numpy=-1.0920639>, <tf.Tensor: shape=(), dtype=float32, numpy=0.0>, <tf.Tensor: shape=(), dtype=float32, numpy=1.3749921>, <tf.Tensor: shape=(), dtype=float32, numpy=-0.6536742>, <tf.Tensor: shape=(), dtype=float32, numpy=0.9303491>, <tf.Tensor: shape=(), dtype=float32, numpy=1.1074361>, <tf.Tensor: shape=(), dtype=float32, numpy=1.1389043>, <tf.Tensor: shape=(), dtype=float32, numpy=-1.5781983>, <tf.Tensor: shape=(), dtype=float32, numpy=-1.0469854>, <tf.Tensor: shape=(), dtype=float32, numpy=0.0>, <tf.Tensor: shape=(), dtype=float32, numpy=0.65792954>, <tf.Tensor: shape=(), dtype=float32, numpy=-0.01045457>, <tf.Tensor: shape=(), dtype=float32, numpy=-0.04576717>, <tf.Tensor: shape=(), dtype=float32, numpy=3.1019614>, <tf.Tensor: shape=(), dtype=float32, numpy=1.35376>, <tf.Tensor: shape=(), dtype=float32, numpy=0.9795631>, <tf.Tensor: shape=(), dtype=float32, numpy=0.97807616>, <tf.Tensor: shape=(), dtype=float32, numpy=0.92000484>, <tf.Tensor: shape=(), dtype=float32, numpy=0.72165745>, <tf.Tensor: shape=(), dtype=float32, numpy=0.98875093>, <tf.Tensor: shape=(), dtype=float32, numpy=0.87667835>)\n"
     ]
    }
   ],
   "source": [
    "for x in ds.take(1):\n",
    "  print(x)"
   ]
  },
  {
   "cell_type": "markdown",
   "metadata": {
    "colab_type": "text",
    "id": "HzahEELTKlSV"
   },
   "source": [
    "That csv reader class returns a list of scalars for each record. The following function repacks that list of scalars into a (feature_vector, label) pair."
   ]
  },
  {
   "cell_type": "code",
   "execution_count": 17,
   "metadata": {
    "colab": {},
    "colab_type": "code",
    "id": "zPD6ICDlF6Wf"
   },
   "outputs": [],
   "source": [
    "def pack_row(*row):\n",
    "  label = row[0]\n",
    "  features = tf.stack(row[1:],1)\n",
    "  return features, label"
   ]
  },
  {
   "cell_type": "markdown",
   "metadata": {
    "colab_type": "text",
    "id": "4oa8tLuwLsbO"
   },
   "source": [
    "TensorFlow is most efficient when operating on large batches of data.\n",
    "\n",
    "So instead of repacking each row individually, we will make a new `Dataset` that takes batches of 10000-examples, applies the `pack_row` function to each batch, and then splits the batches back up into individual records:"
   ]
  },
  {
   "cell_type": "code",
   "execution_count": 18,
   "metadata": {
    "colab": {},
    "colab_type": "code",
    "id": "-w-VHTwwGVoZ"
   },
   "outputs": [],
   "source": [
    "packed_ds = ds.batch(10000).map(pack_row).unbatch()"
   ]
  },
  {
   "cell_type": "markdown",
   "metadata": {
    "colab_type": "text",
    "id": "lUbxc5bxNSXV"
   },
   "source": [
    "Have a look at some of the records from this new `packed_ds`.\n",
    "\n",
    "The features are not perfectly normalized, but this is sufficient for this tutorial."
   ]
  },
  {
   "cell_type": "code",
   "execution_count": 19,
   "metadata": {
    "colab": {},
    "colab_type": "code",
    "id": "LPTp-upqG3gv"
   },
   "outputs": [
    {
     "name": "stdout",
     "output_type": "stream",
     "text": [
      "tf.Tensor(\n",
      "[ 0.8692932  -0.6350818   0.22569026  0.32747006 -0.6899932   0.75420225\n",
      " -0.24857314 -1.0920639   0.          1.3749921  -0.6536742   0.9303491\n",
      "  1.1074361   1.1389043  -1.5781983  -1.0469854   0.          0.65792954\n",
      " -0.01045457 -0.04576717  3.1019614   1.35376     0.9795631   0.97807616\n",
      "  0.92000484  0.72165745  0.98875093  0.87667835], shape=(28,), dtype=float32)\n"
     ]
    }
   ],
   "source": [
    "for x, y in packed_ds.take(1):\n",
    "  print(x)"
   ]
  },
  {
   "cell_type": "code",
   "execution_count": 20,
   "metadata": {
    "colab": {},
    "colab_type": "code",
    "id": "TfcXuv33Fvka"
   },
   "outputs": [
    {
     "name": "stdout",
     "output_type": "stream",
     "text": [
      "tf.Tensor(\n",
      "[ 0.8692932  -0.6350818   0.22569026  0.32747006 -0.6899932   0.75420225\n",
      " -0.24857314 -1.0920639   0.          1.3749921  -0.6536742   0.9303491\n",
      "  1.1074361   1.1389043  -1.5781983  -1.0469854   0.          0.65792954\n",
      " -0.01045457 -0.04576717  3.1019614   1.35376     0.9795631   0.97807616\n",
      "  0.92000484  0.72165745  0.98875093  0.87667835], shape=(28,), dtype=float32)\n",
      "tf.Tensor(\n",
      "[ 1.2179255  -0.3078283  -1.6015735   1.5323688  -1.0068238   0.55578095\n",
      " -0.05943923  0.8195276   2.1730762   0.84002817 -1.4307731   0.5020205\n",
      "  0.          0.4631135  -0.8008459  -0.21487965  2.5482244   0.40697673\n",
      " -1.487883    0.81112     0.          0.6272983   0.812112    0.9893707\n",
      "  0.70444375  0.5734874   0.7088749   0.7649955 ], shape=(28,), dtype=float32)\n"
     ]
    },
    {
     "data": {
      "image/png": "[encoded data removed]",
      "text/plain": [
       "<Figure size 432x288 with 1 Axes>"
      ]
     },
     "metadata": {
      "needs_background": "light"
     },
     "output_type": "display_data"
    }
   ],
   "source": [
    "for features,label in packed_ds.batch(100).take(2):\n",
    "  print(features[0])\n",
    "  plt.hist(features.numpy()[:,1].flatten())"
   ]
  },
  {
   "cell_type": "markdown",
   "metadata": {
    "colab_type": "text",
    "id": "x5hGtTXcIDJL"
   },
   "source": [
    "--------\n",
    "# > What is batch, epoch and iteration in Machine Learning?\n",
    "We need terminologies like epochs, batch size, iterations only when the data is too big which happens all the time in machine learning and **we can’t pass all the data to the computer at once**. So, to overcome this problem we need to divide the data into smaller sizes and give it to our computer one by one and update the weights of the neural networks at the end of every step to fit it to the data given.\n",
    "![alt text](https://desireai.com/wp-content/uploads/2019/08/difference-between-batch_size-and-epochs-300x258.png)\n",
    "\n",
    "## Epoch:\n",
    "One Epoch is when an **ENTIRE dataset** is passed forward and backward through the neural network only ONCE.\n",
    "\n",
    "## Batch size:\n",
    "Total number of training examples present in a single batch.\n",
    "\n",
    "## Iteration:\n",
    "Iterations is the number of batches needed to complete one epoch.\n",
    "\n",
    "## Example:\n",
    "Suppose you have 1,000 data sample and you have specified a batch size with 100 \n",
    "data sample. You will have 10 weight update for each epoch.\n",
    "\n",
    "*We always train with multiple epochs. Because passing the entire dataset through a neural network once is not enough. And we need to pass the full dataset multiple times to the same neural network.*\n",
    "\n",
    "-------"
   ]
  },
  {
   "cell_type": "markdown",
   "metadata": {
    "colab_type": "text",
    "id": "ICKZRY7gN-QM"
   },
   "source": [
    "To keep this tutorial relatively short use just the first 1,000 samples for validation, and the next 10,000 for training:"
   ]
  },
  {
   "cell_type": "code",
   "execution_count": 21,
   "metadata": {
    "colab": {},
    "colab_type": "code",
    "id": "hmk49OqZIFZP"
   },
   "outputs": [],
   "source": [
    "N_VALIDATION = int(1e3)\n",
    "N_TRAIN = int(1e4)\n",
    "BUFFER_SIZE = int(1e4)\n",
    "BATCH_SIZE = 500\n",
    "STEPS_PER_EPOCH = N_TRAIN//BATCH_SIZE"
   ]
  },
  {
   "cell_type": "markdown",
   "metadata": {
    "colab_type": "text",
    "id": "FP3M9DmvON32"
   },
   "source": [
    "The `Dataset.skip` and `Dataset.take` methods make this easy.\n",
    "\n",
    "At the same time, use the `Dataset.cache` method to ensure that the loader doesn't need to re-read the data from the file on each epoch:"
   ]
  },
  {
   "cell_type": "code",
   "execution_count": 22,
   "metadata": {
    "colab": {},
    "colab_type": "code",
    "id": "H8H_ZzpBOOk-"
   },
   "outputs": [],
   "source": [
    "validate_ds = packed_ds.take(N_VALIDATION).cache()\n",
    "train_ds = packed_ds.skip(N_VALIDATION).take(N_TRAIN).cache()"
   ]
  },
  {
   "cell_type": "code",
   "execution_count": 23,
   "metadata": {
    "colab": {},
    "colab_type": "code",
    "id": "9zAOqk2_Px7K"
   },
   "outputs": [
    {
     "data": {
      "text/plain": [
       "<CacheDataset shapes: ((28,), ()), types: (tf.float32, tf.float32)>"
      ]
     },
     "execution_count": 23,
     "metadata": {},
     "output_type": "execute_result"
    }
   ],
   "source": [
    "train_ds"
   ]
  },
  {
   "cell_type": "markdown",
   "metadata": {
    "colab_type": "text",
    "id": "6PMliHoVO3OL"
   },
   "source": [
    "These datasets return individual examples. Use the `.batch` method to create batches of an appropriate size for training. Before batching also remember to `.shuffle` and `.repeat` the training set."
   ]
  },
  {
   "cell_type": "code",
   "execution_count": 24,
   "metadata": {
    "colab": {},
    "colab_type": "code",
    "id": "Y7I4J355O223"
   },
   "outputs": [],
   "source": [
    "validate_ds = validate_ds.batch(BATCH_SIZE)\n",
    "train_ds = train_ds.shuffle(BUFFER_SIZE).repeat().batch(BATCH_SIZE)"
   ]
  },
  {
   "cell_type": "markdown",
   "metadata": {
    "colab_type": "text",
    "id": "mxBeiLUiWHJV"
   },
   "source": [
    "### Tiny model"
   ]
  },
  {
   "cell_type": "markdown",
   "metadata": {
    "colab_type": "text",
    "id": "a6JDv12scLTI"
   },
   "source": [
    "1. Start by defining a model:"
   ]
  },
  {
   "cell_type": "code",
   "execution_count": 21,
   "metadata": {
    "colab": {},
    "colab_type": "code",
    "id": "EZh-QFjKHb70"
   },
   "outputs": [],
   "source": [
    "model = tf.keras.Sequential([\n",
    "    layers.Dense(16, activation='relu', input_shape=(FEATURES,)),\n",
    "    layers.Dense(1)\n",
    "])"
   ]
  },
  {
   "cell_type": "code",
   "execution_count": null,
   "metadata": {},
   "outputs": [],
   "source": [
    "\n"
   ]
  },
  {
   "cell_type": "markdown",
   "metadata": {
    "colab_type": "text",
    "id": "96E7HndKOY8u"
   },
   "source": [
    "`tf.keras.Sequential` groups a linear stack of layers into a tf.keras.Model.\n",
    "`A linear stack is a model` without any branching. Every layer has one input and output. The output of one layer is the input of the layer below it."
   ]
  },
  {
   "cell_type": "markdown",
   "metadata": {
    "colab_type": "text",
    "id": "7rLB77LNO5nH"
   },
   "source": [
    "2. Choose an optimizer and loss function for training"
   ]
  },
  {
   "cell_type": "code",
   "execution_count": 22,
   "metadata": {
    "colab": {},
    "colab_type": "code",
    "id": "irDDchexOBgF"
   },
   "outputs": [],
   "source": [
    "optimizer = tf.keras.optimizers.Adam()"
   ]
  },
  {
   "cell_type": "markdown",
   "metadata": {
    "colab_type": "text",
    "id": "gWwSjqo5PwT3"
   },
   "source": [
    "`Optimizer` is optimization method. Commonly used optimizers are Adam, SGD. Please check the details [here](https://ruder.io/optimizing-gradient-descent/)"
   ]
  },
  {
   "cell_type": "code",
   "execution_count": 23,
   "metadata": {
    "colab": {},
    "colab_type": "code",
    "id": "s_drkCdUQj0d"
   },
   "outputs": [],
   "source": [
    "loss_func = tf.keras.losses.BinaryCrossentropy(from_logits=True)"
   ]
  },
  {
   "cell_type": "markdown",
   "metadata": {
    "colab_type": "text",
    "id": "-xr81CP2RFMQ"
   },
   "source": [
    "`BinaryCrossentropy` computes the cross-entropy loss between true labels and predicted labels. Check the explanation [here](https://towardsdatascience.com/understanding-binary-cross-entropy-log-loss-a-visual-explanation-a3ac6025181a)\n",
    "\n",
    "Let's see an example here:"
   ]
  },
  {
   "cell_type": "code",
   "execution_count": 24,
   "metadata": {
    "colab": {},
    "colab_type": "code",
    "id": "LTVkm_yNREWX"
   },
   "outputs": [
    {
     "data": {
      "text/plain": [
       "0.71355796"
      ]
     },
     "execution_count": 24,
     "metadata": {},
     "output_type": "execute_result"
    }
   ],
   "source": [
    "y_true = [[0., 1.], [0., 1.]]\n",
    "y_pred = [[0.6, 0.4], [0.4, 0.6]]\n",
    "\n",
    "bce = tf.keras.losses.BinaryCrossentropy()\n",
    "bce(y_true, y_pred).numpy()\n"
   ]
  },
  {
   "cell_type": "markdown",
   "metadata": {
    "colab_type": "text",
    "id": "3P-0yFdaTV34"
   },
   "source": [
    "3. Let's compile and fit the model"
   ]
  },
  {
   "cell_type": "code",
   "execution_count": 25,
   "metadata": {
    "colab": {},
    "colab_type": "code",
    "id": "WrvFpb8hTYst"
   },
   "outputs": [],
   "source": [
    "model.compile(optimizer=optimizer,\n",
    "              loss=loss_func,\n",
    "              metrics=[\n",
    "                tf.keras.losses.BinaryCrossentropy(from_logits=True, name='binary_crossentropy'),\n",
    "                'accuracy'])"
   ]
  },
  {
   "cell_type": "code",
   "execution_count": 26,
   "metadata": {
    "colab": {},
    "colab_type": "code",
    "id": "puR8R_G9Tw1M"
   },
   "outputs": [
    {
     "name": "stdout",
     "output_type": "stream",
     "text": [
      "Model: \"sequential\"\n",
      "_________________________________________________________________\n",
      "Layer (type)                 Output Shape              Param #   \n",
      "=================================================================\n",
      "dense (Dense)                (None, 16)                464       \n",
      "_________________________________________________________________\n",
      "dense_1 (Dense)              (None, 1)                 17        \n",
      "=================================================================\n",
      "Total params: 481\n",
      "Trainable params: 481\n",
      "Non-trainable params: 0\n",
      "_________________________________________________________________\n"
     ]
    }
   ],
   "source": [
    "model.summary()"
   ]
  },
  {
   "cell_type": "code",
   "execution_count": 27,
   "metadata": {
    "colab": {},
    "colab_type": "code",
    "id": "_RVsNVL0Twrd"
   },
   "outputs": [],
   "source": [
    "epochs = 1000\n",
    "history = model.fit(\n",
    "          train_ds,\n",
    "          steps_per_epoch = STEPS_PER_EPOCH,\n",
    "          epochs=epochs,\n",
    "          validation_data=validate_ds,\n",
    "          callbacks = [tf.keras.callbacks.TensorBoard(log_dir=\"./logs\"),\n",
    "                       tf.keras.callbacks.EarlyStopping(monitor='val_binary_crossentropy', patience=200)],\n",
    "          verbose = 0\n",
    "          )"
   ]
  },
  {
   "cell_type": "markdown",
   "metadata": {
    "colab_type": "text",
    "id": "ya7x7gr9UjU0"
   },
   "source": [
    " `callbacks.EarlyStopping` to end the training once it was clear the model was not making progress.\n",
    "\n",
    " `callbacks.TensorBoard` to generate TensorBoard logs for the training.\n"
   ]
  },
  {
   "cell_type": "markdown",
   "metadata": {
    "colab_type": "text",
    "id": "DEQNKadHA0M3"
   },
   "source": [
    "### View in TensorBoard\n",
    "\n",
    "These models all wrote TensorBoard logs during training.\n",
    "\n",
    "Open an embedded  TensorBoard viewer inside a notebook:"
   ]
  },
  {
   "cell_type": "code",
   "execution_count": 24,
   "metadata": {
    "colab": {},
    "colab_type": "code",
    "id": "6oa1lkJddZ-m"
   },
   "outputs": [
    {
     "name": "stdout",
     "output_type": "stream",
     "text": [
      "The tensorboard extension is already loaded. To reload it, use:\n",
      "  %reload_ext tensorboard\n"
     ]
    },
    {
     "data": {
      "text/plain": [
       "Reusing TensorBoard on port 6006 (pid 24400), started 3 days, 4:46:25 ago. (Use '!kill 24400' to kill it.)"
      ]
     },
     "metadata": {},
     "output_type": "display_data"
    },
    {
     "data": {
      "text/html": [
       "\n",
       "      <iframe id=\"tensorboard-frame-a73660f9464865bf\" width=\"100%\" height=\"800\" frameborder=\"0\">\n",
       "      </iframe>\n",
       "      <script>\n",
       "        (function() {\n",
       "          const frame = document.getElementById(\"tensorboard-frame-a73660f9464865bf\");\n",
       "          const url = new URL(\"/\", window.location);\n",
       "          const port = 6006;\n",
       "          if (port) {\n",
       "            url.port = port;\n",
       "          }\n",
       "          frame.src = url;\n",
       "        })();\n",
       "      </script>\n",
       "    "
      ],
      "text/plain": [
       "<IPython.core.display.HTML object>"
      ]
     },
     "metadata": {},
     "output_type": "display_data"
    }
   ],
   "source": [
    "%load_ext tensorboard\n",
    "%tensorboard --logdir \"./logs\""
   ]
  },
  {
   "cell_type": "markdown",
   "metadata": {
    "colab_type": "text",
    "id": "qmo3cXwoamCG"
   },
   "source": [
    "$\\Omega$ Practice time: can you beat the performance of the tiny model?\n",
    "Hints:\n",
    "1. Build a deeper and wider network\n",
    "2. Try different activation functions (e.g. Sigmoid, leaky relu, elu) and optimizers\n",
    "3. Add weight regularization and dropout in case of overfitting"
   ]
  },
  {
   "cell_type": "markdown",
   "metadata": {},
   "source": [
    "![separator2](https://i.imgur.com/4gX5WFr.png)\n",
    "\n",
    "## Big Model"
   ]
  },
  {
   "cell_type": "code",
   "execution_count": 63,
   "metadata": {},
   "outputs": [],
   "source": [
    "%load_ext tensorboard"
   ]
  },
  {
   "cell_type": "code",
   "execution_count": 25,
   "metadata": {
    "colab": {},
    "colab_type": "code",
    "id": "rRS84-r9bfpO"
   },
   "outputs": [
    {
     "data": {
      "text/plain": [
       "28"
      ]
     },
     "execution_count": 25,
     "metadata": {},
     "output_type": "execute_result"
    }
   ],
   "source": [
    "FEATURES"
   ]
  },
  {
   "cell_type": "code",
   "execution_count": 53,
   "metadata": {},
   "outputs": [],
   "source": [
    "# Function to remove all non alphanumeric and non-underscore characters from the string.\n",
    "def re_func(your_string):\n",
    "    return(re.sub(r'\\W+', '', your_string))\n",
    "\n",
    "# Function to extract the name of hyperparameter from a tensorflow deep learning hyperparameter choice.\n",
    "def tf_hyper_name(tf_hyper_para):\n",
    "    name = [re_func(element) for element in str(tf_hyper_para).split(\".\") ][-1]\n",
    "    \n",
    "    if 'object' in name:\n",
    "        name = name.split('object')[0]\n",
    "    name = name.strip()\n",
    "    return(name)\n",
    "    \n",
    "    "
   ]
  },
  {
   "cell_type": "code",
   "execution_count": 54,
   "metadata": {},
   "outputs": [
    {
     "name": "stdout",
     "output_type": "stream",
     "text": [
      "<class 'tensorflow.python.keras.optimizer_v2.adam.Adam'>\n",
      "<class 'tensorflow.python.keras.optimizer_v2.adam.Adam'>\n",
      "  \n",
      "[\"<class 'tensorflow\", 'python', 'keras', 'optimizer_v2', 'adam', \"Adam'>\"]\n",
      "['classtensorflow', 'python', 'keras', 'optimizer_v2', 'adam', 'Adam']\n"
     ]
    }
   ],
   "source": [
    "optimizer = tf.keras.optimizers.Adam\n",
    "tf_hyper_name(optimizer)\n",
    "print(optimizer)\n",
    "print(str(optimizer))\n",
    "print(\"  \")\n",
    "print(str(optimizer).split(\".\"))\n",
    "clean_str_list = [re_func(element) for element in str(optimizer).split(\".\") ]\n",
    "print(clean_str_list)"
   ]
  },
  {
   "cell_type": "markdown",
   "metadata": {},
   "source": [
    "## Hyperparameter selection"
   ]
  },
  {
   "cell_type": "code",
   "execution_count": 68,
   "metadata": {},
   "outputs": [
    {
     "name": "stdout",
     "output_type": "stream",
     "text": [
      "Adam\n",
      "['<tensorflow', 'python', 'keras', 'losses', 'BinaryCrossentropy object at 0x00000157151F79D0>']\n",
      "BinaryCrossentropy\n",
      "20\n",
      "20\n",
      "dnn4hl_hn_20_opt_Adam_loss_BinaryCrossentropy_acti_relu_epochs_1000_batchsi_notspecified_1623120828\n"
     ]
    }
   ],
   "source": [
    "optimizer = tf.keras.optimizers.Adam\n",
    "opt_name = tf_hyper_name(optimizer)\n",
    "print(opt_name)\n",
    "loss_func = tf.keras.losses.BinaryCrossentropy(from_logits=True)\n",
    "print(str(loss_func).split('.'))\n",
    "loss_name = tf_hyper_name(loss_func)\n",
    "print(loss_name)\n",
    "\n",
    "num_hidden_neurons = 20\n",
    "activation='relu'\n",
    "epochs = 1000\n",
    "batch_size = 'notspecified'\n",
    "STEPS_PER_EPOCH = 20\n",
    "print(STEPS_PER_EPOCH)\n",
    "print(num_hidden_neurons)\n",
    "\n",
    "MODEL_NAME = \"dnn4hl_hn_{}_opt_{}_loss_{}_acti_{}_epochs_{}_batchsi_{}_{}\".format(num_hidden_neurons, \n",
    "                                                                            opt_name,\n",
    "                                                                            loss_name,\n",
    "                                                                            activation,\n",
    "                                                                            epochs,\n",
    "                                                                            batch_size,\n",
    "                                                                            int(time.time()) )\n",
    "print(MODEL_NAME)"
   ]
  },
  {
   "cell_type": "code",
   "execution_count": 72,
   "metadata": {},
   "outputs": [],
   "source": [
    "#model.compile?"
   ]
  },
  {
   "cell_type": "code",
   "execution_count": 70,
   "metadata": {},
   "outputs": [
    {
     "name": "stdout",
     "output_type": "stream",
     "text": [
      "0.71355796\n",
      "Model: \"sequential_6\"\n",
      "_________________________________________________________________\n",
      "Layer (type)                 Output Shape              Param #   \n",
      "=================================================================\n",
      "dense_25 (Dense)             (None, 20)                580       \n",
      "_________________________________________________________________\n",
      "dense_26 (Dense)             (None, 20)                420       \n",
      "_________________________________________________________________\n",
      "dense_27 (Dense)             (None, 20)                420       \n",
      "_________________________________________________________________\n",
      "dense_28 (Dense)             (None, 20)                420       \n",
      "_________________________________________________________________\n",
      "dense_29 (Dense)             (None, 1)                 21        \n",
      "=================================================================\n",
      "Total params: 1,861\n",
      "Trainable params: 1,861\n",
      "Non-trainable params: 0\n",
      "_________________________________________________________________\n",
      "None\n"
     ]
    }
   ],
   "source": [
    "\n",
    "model = tf.keras.Sequential([\n",
    "    layers.Dense(num_hidden_neurons, activation=activation, input_shape=(FEATURES,)),\n",
    "    layers.Dense(num_hidden_neurons, activation = activation),\n",
    "    layers.Dense(num_hidden_neurons, activation = activation),\n",
    "    layers.Dense(num_hidden_neurons, activation = activation),\n",
    "    layers.Dense(1)\n",
    "])\n",
    "\n",
    "y_true = [[0., 1.], [0., 1.]]\n",
    "y_pred = [[0.6, 0.4], [0.4, 0.6]]\n",
    "\n",
    "                                                                                \n",
    "tb = TensorBoard(log_dir='logs/{}'.format(MODEL_NAME))\n",
    "es =  tf.keras.callbacks.EarlyStopping(monitor='val_binary_crossentropy', patience=200)\n",
    "bce = tf.keras.losses.BinaryCrossentropy()\n",
    "\n",
    "print(bce(y_true, y_pred).numpy())\n",
    "\n",
    "model.compile(optimizer=opt_name, loss=loss_func,\n",
    "              metrics=[tf.keras.losses.BinaryCrossentropy(from_logits=True, name='binary_crossentropy'),\n",
    "                'accuracy'])\n",
    "print(model.summary())\n",
    "\n",
    "history = model.fit(\n",
    "          train_ds,\n",
    "          steps_per_epoch = STEPS_PER_EPOCH,\n",
    "          epochs=epochs,\n",
    "          validation_data=validate_ds,\n",
    "          callbacks = [tb, es ],\n",
    "          verbose = 0\n",
    "          )"
   ]
  },
  {
   "cell_type": "code",
   "execution_count": 71,
   "metadata": {},
   "outputs": [
    {
     "data": {
      "image/png": "[encoded data removed]",
      "text/plain": [
       "<Figure size 432x288 with 1 Axes>"
      ]
     },
     "metadata": {
      "needs_background": "light"
     },
     "output_type": "display_data"
    }
   ],
   "source": [
    "    plt.plot(history.history['loss'])\n",
    "    plt.plot(history.history['val_loss'])\n",
    "    plt.title('model loss')\n",
    "    plt.ylabel('loss')\n",
    "    plt.xlabel('epoch')\n",
    "    plt.legend(['train', 'validation'], loc='upper right')\n",
    "    plt.show()"
   ]
  },
  {
   "cell_type": "code",
   "execution_count": 61,
   "metadata": {},
   "outputs": [
    {
     "data": {
      "image/png": "[encoded data removed]",
      "text/plain": [
       "<Figure size 432x288 with 1 Axes>"
      ]
     },
     "metadata": {
      "needs_background": "light"
     },
     "output_type": "display_data"
    }
   ],
   "source": [
    "# 4 hidden layers with 16 hidden neuron per layer. \n",
    "    \n",
    "    plt.plot(history.history['loss'])\n",
    "    plt.plot(history.history['val_loss'])\n",
    "    plt.title('model loss')\n",
    "    plt.ylabel('loss')\n",
    "    plt.xlabel('epoch')\n",
    "    plt.legend(['train', 'validation'], loc='upper right')\n",
    "    plt.show()"
   ]
  },
  {
   "cell_type": "code",
   "execution_count": 33,
   "metadata": {},
   "outputs": [
    {
     "data": {
      "text/plain": [
       "<tensorflow.python.keras.callbacks.History at 0x230425273a0>"
      ]
     },
     "execution_count": 33,
     "metadata": {},
     "output_type": "execute_result"
    }
   ],
   "source": [
    "history"
   ]
  },
  {
   "cell_type": "code",
   "execution_count": 34,
   "metadata": {},
   "outputs": [
    {
     "data": {
      "image/png": "[encoded data removed]",
      "text/plain": [
       "<Figure size 432x288 with 1 Axes>"
      ]
     },
     "metadata": {
      "needs_background": "light"
     },
     "output_type": "display_data"
    }
   ],
   "source": [
    "    plt.plot(history.history['loss'])\n",
    "    plt.plot(history.history['val_loss'])\n",
    "    plt.title('model loss')\n",
    "    plt.ylabel('loss')\n",
    "    plt.xlabel('epoch')\n",
    "    plt.legend(['train', 'validation'], loc='upper right')\n",
    "    plt.show()"
   ]
  },
  {
   "cell_type": "code",
   "execution_count": 67,
   "metadata": {},
   "outputs": [
    {
     "data": {
      "text/plain": [
       "Reusing TensorBoard on port 6006 (pid 24400), started 3 days, 21:14:15 ago. (Use '!kill 24400' to kill it.)"
      ]
     },
     "metadata": {},
     "output_type": "display_data"
    },
    {
     "data": {
      "text/html": [
       "\n",
       "      <iframe id=\"tensorboard-frame-ab81a9205dded01\" width=\"100%\" height=\"800\" frameborder=\"0\">\n",
       "      </iframe>\n",
       "      <script>\n",
       "        (function() {\n",
       "          const frame = document.getElementById(\"tensorboard-frame-ab81a9205dded01\");\n",
       "          const url = new URL(\"/\", window.location);\n",
       "          const port = 6006;\n",
       "          if (port) {\n",
       "            url.port = port;\n",
       "          }\n",
       "          frame.src = url;\n",
       "        })();\n",
       "      </script>\n",
       "    "
      ],
      "text/plain": [
       "<IPython.core.display.HTML object>"
      ]
     },
     "metadata": {},
     "output_type": "display_data"
    }
   ],
   "source": [
    "%tensorboard --logdir \"./logs\""
   ]
  },
  {
   "cell_type": "code",
   "execution_count": null,
   "metadata": {},
   "outputs": [],
   "source": []
  },
  {
   "cell_type": "code",
   "execution_count": null,
   "metadata": {},
   "outputs": [],
   "source": []
  },
  {
   "cell_type": "code",
   "execution_count": null,
   "metadata": {},
   "outputs": [],
   "source": []
  },
  {
   "cell_type": "code",
   "execution_count": null,
   "metadata": {},
   "outputs": [],
   "source": []
  },
  {
   "cell_type": "code",
   "execution_count": null,
   "metadata": {},
   "outputs": [],
   "source": []
  }
 ],
 "metadata": {
  "colab": {
   "collapsed_sections": [],
   "machine_shape": "hm",
   "name": "TensorFlow Intro.ipynb",
   "private_outputs": true,
   "provenance": [
    {
     "file_id": "https://github.com/tensorflow/docs/blob/master/site/en/tutorials/keras/overfit_and_underfit.ipynb",
     "timestamp": 1589942524704
    }
   ]
  },
  "kernelspec": {
   "display_name": "Python 3",
   "language": "python",
   "name": "python3"
  },
  "language_info": {
   "codemirror_mode": {
    "name": "ipython",
    "version": 3
   },
   "file_extension": ".py",
   "mimetype": "text/x-python",
   "name": "python",
   "nbconvert_exporter": "python",
   "pygments_lexer": "ipython3",
   "version": "3.8.5"
  }
 },
 "nbformat": 4,
 "nbformat_minor": 4
}
